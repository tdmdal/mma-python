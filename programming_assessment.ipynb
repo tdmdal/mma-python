{
  "nbformat": 4,
  "nbformat_minor": 0,
  "metadata": {
    "colab": {
      "name": "programming_assessment.ipynb",
      "provenance": [],
      "collapsed_sections": []
    },
    "kernelspec": {
      "name": "python3",
      "display_name": "Python 3"
    },
    "language_info": {
      "name": "python"
    }
  },
  "cells": [
    {
      "cell_type": "markdown",
      "source": [
        "# Intro\n",
        "\n",
        "We prepared five questions to help assess your basic Python skills.\n",
        "\n",
        "After you open this notebook in Google Colab, to start, make a copy of the notebook to your own Google Drive (Click the menu \"File\" -> \"Save a Copy in Drive\"). Solve all five problems in the copied notebook. Once done, download the notebook (Click the menu \"File\" -> \"Download\" -> \"Download .ipynb\"). Last, submit it on Quercus.\n",
        "\n",
        "If you are not familiar with how Google Colab or notebook works, see a quick overview [here](https://colab.research.google.com/notebooks/basic_features_overview.ipynb)."
      ],
      "metadata": {
        "id": "k6f4yzyXLkBp"
      }
    },
    {
      "cell_type": "code",
      "source": [
        "# let's first load a few packages you will need to answer the questions\n",
        "import numpy as np\n",
        "import pandas as pd\n",
        "from __future__ import annotations"
      ],
      "metadata": {
        "id": "99AqpQNS6OaC"
      },
      "execution_count": 1,
      "outputs": []
    },
    {
      "cell_type": "markdown",
      "source": [
        "# Questions\n",
        "\n",
        "**Q1.** What is a data structure in computer programming? Can you give two examples of data structures? (Double click the cell below to type your answer.)"
      ],
      "metadata": {
        "id": "_rK6oVHLN-rv"
      }
    },
    {
      "cell_type": "markdown",
      "source": [
        "My answer: A data structure is..."
      ],
      "metadata": {
        "id": "w3KBE1yFP67_"
      }
    },
    {
      "cell_type": "markdown",
      "source": [
        "**Q2**. Toronto has a lot of snows in the winter. Let's write a Python function to print out a snow pile. A snow pile is represented by layers of snowfakes (`*`) forming a triangle shape. The top layer has one snowflake, and the number of snowflakes increases by 2 in subsequent layers. The function takes the number of layers as an input, and prints a snow pile. See two examples below. (You can assume that the number of layers is between 1 and 16, i.e. `0 <= num_layers <= 16`.)\n",
        "\n",
        "```\n",
        "Input: num_layers = 3\n",
        "Output:\n",
        "  *\n",
        " ***\n",
        "*****\n",
        "\n",
        "Input: num_layers = 5\n",
        "Output:\n",
        "    *\n",
        "   ***\n",
        "  *****\n",
        " *******\n",
        "*********\n",
        "```"
      ],
      "metadata": {
        "id": "iZff_X61-ocg"
      }
    },
    {
      "cell_type": "code",
      "source": [
        "# solve Q2 in this cell; do not change the function signature\n",
        "def snow_pile(num_layers: int) -> None:\n",
        "  \"\"\"Print a snow pile\n",
        "\n",
        "  Args:\n",
        "    num_layers: an integer specifies how many layers the snow pile has\n",
        "\n",
        "  Returns:\n",
        "    None    \n",
        "  \"\"\"\n",
        "\n",
        "  # start your code here\n",
        "  pass"
      ],
      "metadata": {
        "id": "vf0qvh5XVY0D"
      },
      "execution_count": 2,
      "outputs": []
    },
    {
      "cell_type": "code",
      "source": [
        "# you can test your snow_pile() function here\n",
        "snow_pile(3)"
      ],
      "metadata": {
        "id": "WnKkWGsbjYlt"
      },
      "execution_count": 3,
      "outputs": []
    },
    {
      "cell_type": "markdown",
      "source": [
        "**Q3.** Given a list of distinct integers in ascending order and a target integer, if the target is found in the list, return its index. If not, return the index where it would be if it were inserted in order. See a few examples below.\n",
        "\n",
        "```\n",
        "Input: nums = [1,3,5,6], target = 5\n",
        "Output: 2\n",
        "\n",
        "Input: nums = [1,3,5,6], target = 2\n",
        "Output: 1\n",
        "\n",
        "Input: nums = [1,3,5,6], target = -1\n",
        "Output: 0\n",
        "\n",
        "Input: nums = [1,3,5,6], target = 7\n",
        "Output: 4\n",
        "```\n"
      ],
      "metadata": {
        "id": "iOXhsc9P0lQM"
      }
    },
    {
      "cell_type": "code",
      "source": [
        "# write a function to solve Q3; do not change the function signature\n",
        "def search_insert(nums: List[int], target: int) -> int:\n",
        "  \"\"\"Search or insert a target in an ordered list\n",
        "\n",
        "  Args:\n",
        "    nums: a list of distinct integers in ascending order\n",
        "    target: the target integer to search or insert\n",
        "\n",
        "  Returns:\n",
        "    the target index if it is found in the list, or otherwise the\n",
        "    index if the target were to be inserted in order   \n",
        "  \"\"\"\n",
        "\n",
        "  # start your code here\n",
        "  pass"
      ],
      "metadata": {
        "id": "TNYq0pBJ9EWG"
      },
      "execution_count": 4,
      "outputs": []
    },
    {
      "cell_type": "code",
      "source": [
        "# you can test your search_insert() function here\n",
        "search_insert([1,3,5,6], 5)"
      ],
      "metadata": {
        "id": "gYalsVlx-LfG"
      },
      "execution_count": 5,
      "outputs": []
    },
    {
      "cell_type": "markdown",
      "source": [
        "**Q4.** Given two numpy 2-D positive integer arrays of the same dimension, `a1` and `a2`, return the sum of all elements in `a1` that are element-wise greater than those in `a2`. If none of the elements in `a1` is greater than the corresponding ones in `a2`, return `0`. See a few examples below.\n",
        "\n",
        "```\n",
        "Input:\n",
        "  a1 = np.array([[1,2,3],[4,5,6]])\n",
        "  a2 = np.array([[6,5,4],[3,2,1]])\n",
        "Ouput: 15\n",
        "\n",
        "Input:\n",
        "  a1 = np.array([[1,2,3],[4,5,6]])\n",
        "  a2 = np.array([[9,9,9],[9,9,9]])\n",
        "Ouput: 0\n",
        "```"
      ],
      "metadata": {
        "id": "39CYp30qjguJ"
      }
    },
    {
      "cell_type": "code",
      "source": [
        "# write a function to solve Q4; do not change the function signature\n",
        "def sum_greater(a1, a2):\n",
        "  \"\"\"Sum of all elements in a 2D array that are element-wise greater \n",
        "    than those in another array\n",
        "\n",
        "  Args:\n",
        "    a1: a numpy 2D positive integer array\n",
        "    a2: a numpy 2D positive integer array that has the same dimension as a1\n",
        "\n",
        "  Returns:\n",
        "    sum of all elements in a1 that are element-wise greater than those in a2;\n",
        "    return 0 if none of the elements in a1 is greater than the corresponding \n",
        "    ones in a2\n",
        "  \"\"\"\n",
        "\n",
        "  # start your code here\n",
        "  pass"
      ],
      "metadata": {
        "id": "cWKD7oU8kP_k"
      },
      "execution_count": 6,
      "outputs": []
    },
    {
      "cell_type": "code",
      "source": [
        "# you can test your sum_greater() function here\n",
        "a = np.array([[1,2,3],[4,5,6]])\n",
        "b = np.array([[6,5,4],[3,2,1]])\n",
        "sum_greater(a, b)"
      ],
      "metadata": {
        "id": "HxEWuL_AwcaI"
      },
      "execution_count": 7,
      "outputs": []
    },
    {
      "cell_type": "markdown",
      "source": [
        "**Q5.** You are given two Pandas dataframes. The dataframe `df_products` contains product information, and the dataframe `df_categories` contains category information (see below). The two dataframes are associated through the `CategoryID` columns. Your task is to count the number of products in each category. In particular, create a new dataframe `df_category_count` that has three columns, `CategoryID`, `CategoryName`, and `TotalCount`, where the `TotalCount` column contains the total number of products in each category. Display the `df_category_count` dataframe in ascending order of the `TotalCount` column."
      ],
      "metadata": {
        "id": "24RBeBIzW6Oo"
      }
    },
    {
      "cell_type": "code",
      "source": [
        "# load the product and category datasets to two dataframes\n",
        "df_products = pd.read_csv(\"https://raw.githubusercontent.com/tdmdal/datasets-teaching/main/nw/csv/Products.csv\")\n",
        "df_categories = pd.read_csv(\"https://raw.githubusercontent.com/tdmdal/datasets-teaching/main/nw/csv/Categories.csv\")"
      ],
      "metadata": {
        "id": "4HDC5V5GhYl4"
      },
      "execution_count": 8,
      "outputs": []
    },
    {
      "cell_type": "code",
      "source": [
        "# dispaly first 5 rows in df_products\n",
        "df_products.head()"
      ],
      "metadata": {
        "colab": {
          "base_uri": "https://localhost:8080/",
          "height": 250
        },
        "id": "4CT9uAw1hnpp",
        "outputId": "39149aba-f606-4ab8-959e-b344602fff13"
      },
      "execution_count": 9,
      "outputs": [
        {
          "output_type": "execute_result",
          "data": {
            "text/plain": [
              "   ProductID                   ProductName  SupplierID  CategoryID  \\\n",
              "0          1                          Chai           1           1   \n",
              "1          2                         Chang           1           1   \n",
              "2          3                 Aniseed Syrup           1           2   \n",
              "3          4  Chef Anton's Cajun Seasoning           2           2   \n",
              "4          5        Chef Anton's Gumbo Mix           2           2   \n",
              "\n",
              "       QuantityPerUnit  UnitPrice  UnitsInStock  UnitsOnOrder  ReorderLevel  \\\n",
              "0   10 boxes x 20 bags      18.00            39             0            10   \n",
              "1   24 - 12 oz bottles      19.00            17            40            25   \n",
              "2  12 - 550 ml bottles      10.00            13            70            25   \n",
              "3       48 - 6 oz jars      22.00            53             0             0   \n",
              "4             36 boxes      21.35             0             0             0   \n",
              "\n",
              "   Discontinued  \n",
              "0             0  \n",
              "1             0  \n",
              "2             0  \n",
              "3             0  \n",
              "4             1  "
            ],
            "text/html": [
              "\n",
              "  <div id=\"df-c4ede42a-2926-4609-b6ba-87622ee57748\">\n",
              "    <div class=\"colab-df-container\">\n",
              "      <div>\n",
              "<style scoped>\n",
              "    .dataframe tbody tr th:only-of-type {\n",
              "        vertical-align: middle;\n",
              "    }\n",
              "\n",
              "    .dataframe tbody tr th {\n",
              "        vertical-align: top;\n",
              "    }\n",
              "\n",
              "    .dataframe thead th {\n",
              "        text-align: right;\n",
              "    }\n",
              "</style>\n",
              "<table border=\"1\" class=\"dataframe\">\n",
              "  <thead>\n",
              "    <tr style=\"text-align: right;\">\n",
              "      <th></th>\n",
              "      <th>ProductID</th>\n",
              "      <th>ProductName</th>\n",
              "      <th>SupplierID</th>\n",
              "      <th>CategoryID</th>\n",
              "      <th>QuantityPerUnit</th>\n",
              "      <th>UnitPrice</th>\n",
              "      <th>UnitsInStock</th>\n",
              "      <th>UnitsOnOrder</th>\n",
              "      <th>ReorderLevel</th>\n",
              "      <th>Discontinued</th>\n",
              "    </tr>\n",
              "  </thead>\n",
              "  <tbody>\n",
              "    <tr>\n",
              "      <th>0</th>\n",
              "      <td>1</td>\n",
              "      <td>Chai</td>\n",
              "      <td>1</td>\n",
              "      <td>1</td>\n",
              "      <td>10 boxes x 20 bags</td>\n",
              "      <td>18.00</td>\n",
              "      <td>39</td>\n",
              "      <td>0</td>\n",
              "      <td>10</td>\n",
              "      <td>0</td>\n",
              "    </tr>\n",
              "    <tr>\n",
              "      <th>1</th>\n",
              "      <td>2</td>\n",
              "      <td>Chang</td>\n",
              "      <td>1</td>\n",
              "      <td>1</td>\n",
              "      <td>24 - 12 oz bottles</td>\n",
              "      <td>19.00</td>\n",
              "      <td>17</td>\n",
              "      <td>40</td>\n",
              "      <td>25</td>\n",
              "      <td>0</td>\n",
              "    </tr>\n",
              "    <tr>\n",
              "      <th>2</th>\n",
              "      <td>3</td>\n",
              "      <td>Aniseed Syrup</td>\n",
              "      <td>1</td>\n",
              "      <td>2</td>\n",
              "      <td>12 - 550 ml bottles</td>\n",
              "      <td>10.00</td>\n",
              "      <td>13</td>\n",
              "      <td>70</td>\n",
              "      <td>25</td>\n",
              "      <td>0</td>\n",
              "    </tr>\n",
              "    <tr>\n",
              "      <th>3</th>\n",
              "      <td>4</td>\n",
              "      <td>Chef Anton's Cajun Seasoning</td>\n",
              "      <td>2</td>\n",
              "      <td>2</td>\n",
              "      <td>48 - 6 oz jars</td>\n",
              "      <td>22.00</td>\n",
              "      <td>53</td>\n",
              "      <td>0</td>\n",
              "      <td>0</td>\n",
              "      <td>0</td>\n",
              "    </tr>\n",
              "    <tr>\n",
              "      <th>4</th>\n",
              "      <td>5</td>\n",
              "      <td>Chef Anton's Gumbo Mix</td>\n",
              "      <td>2</td>\n",
              "      <td>2</td>\n",
              "      <td>36 boxes</td>\n",
              "      <td>21.35</td>\n",
              "      <td>0</td>\n",
              "      <td>0</td>\n",
              "      <td>0</td>\n",
              "      <td>1</td>\n",
              "    </tr>\n",
              "  </tbody>\n",
              "</table>\n",
              "</div>\n",
              "      <button class=\"colab-df-convert\" onclick=\"convertToInteractive('df-c4ede42a-2926-4609-b6ba-87622ee57748')\"\n",
              "              title=\"Convert this dataframe to an interactive table.\"\n",
              "              style=\"display:none;\">\n",
              "        \n",
              "  <svg xmlns=\"http://www.w3.org/2000/svg\" height=\"24px\"viewBox=\"0 0 24 24\"\n",
              "       width=\"24px\">\n",
              "    <path d=\"M0 0h24v24H0V0z\" fill=\"none\"/>\n",
              "    <path d=\"M18.56 5.44l.94 2.06.94-2.06 2.06-.94-2.06-.94-.94-2.06-.94 2.06-2.06.94zm-11 1L8.5 8.5l.94-2.06 2.06-.94-2.06-.94L8.5 2.5l-.94 2.06-2.06.94zm10 10l.94 2.06.94-2.06 2.06-.94-2.06-.94-.94-2.06-.94 2.06-2.06.94z\"/><path d=\"M17.41 7.96l-1.37-1.37c-.4-.4-.92-.59-1.43-.59-.52 0-1.04.2-1.43.59L10.3 9.45l-7.72 7.72c-.78.78-.78 2.05 0 2.83L4 21.41c.39.39.9.59 1.41.59.51 0 1.02-.2 1.41-.59l7.78-7.78 2.81-2.81c.8-.78.8-2.07 0-2.86zM5.41 20L4 18.59l7.72-7.72 1.47 1.35L5.41 20z\"/>\n",
              "  </svg>\n",
              "      </button>\n",
              "      \n",
              "  <style>\n",
              "    .colab-df-container {\n",
              "      display:flex;\n",
              "      flex-wrap:wrap;\n",
              "      gap: 12px;\n",
              "    }\n",
              "\n",
              "    .colab-df-convert {\n",
              "      background-color: #E8F0FE;\n",
              "      border: none;\n",
              "      border-radius: 50%;\n",
              "      cursor: pointer;\n",
              "      display: none;\n",
              "      fill: #1967D2;\n",
              "      height: 32px;\n",
              "      padding: 0 0 0 0;\n",
              "      width: 32px;\n",
              "    }\n",
              "\n",
              "    .colab-df-convert:hover {\n",
              "      background-color: #E2EBFA;\n",
              "      box-shadow: 0px 1px 2px rgba(60, 64, 67, 0.3), 0px 1px 3px 1px rgba(60, 64, 67, 0.15);\n",
              "      fill: #174EA6;\n",
              "    }\n",
              "\n",
              "    [theme=dark] .colab-df-convert {\n",
              "      background-color: #3B4455;\n",
              "      fill: #D2E3FC;\n",
              "    }\n",
              "\n",
              "    [theme=dark] .colab-df-convert:hover {\n",
              "      background-color: #434B5C;\n",
              "      box-shadow: 0px 1px 3px 1px rgba(0, 0, 0, 0.15);\n",
              "      filter: drop-shadow(0px 1px 2px rgba(0, 0, 0, 0.3));\n",
              "      fill: #FFFFFF;\n",
              "    }\n",
              "  </style>\n",
              "\n",
              "      <script>\n",
              "        const buttonEl =\n",
              "          document.querySelector('#df-c4ede42a-2926-4609-b6ba-87622ee57748 button.colab-df-convert');\n",
              "        buttonEl.style.display =\n",
              "          google.colab.kernel.accessAllowed ? 'block' : 'none';\n",
              "\n",
              "        async function convertToInteractive(key) {\n",
              "          const element = document.querySelector('#df-c4ede42a-2926-4609-b6ba-87622ee57748');\n",
              "          const dataTable =\n",
              "            await google.colab.kernel.invokeFunction('convertToInteractive',\n",
              "                                                     [key], {});\n",
              "          if (!dataTable) return;\n",
              "\n",
              "          const docLinkHtml = 'Like what you see? Visit the ' +\n",
              "            '<a target=\"_blank\" href=https://colab.research.google.com/notebooks/data_table.ipynb>data table notebook</a>'\n",
              "            + ' to learn more about interactive tables.';\n",
              "          element.innerHTML = '';\n",
              "          dataTable['output_type'] = 'display_data';\n",
              "          await google.colab.output.renderOutput(dataTable, element);\n",
              "          const docLink = document.createElement('div');\n",
              "          docLink.innerHTML = docLinkHtml;\n",
              "          element.appendChild(docLink);\n",
              "        }\n",
              "      </script>\n",
              "    </div>\n",
              "  </div>\n",
              "  "
            ]
          },
          "metadata": {},
          "execution_count": 9
        }
      ]
    },
    {
      "cell_type": "code",
      "source": [
        "# dispaly all rows in df_categories\n",
        "df_categories"
      ],
      "metadata": {
        "colab": {
          "base_uri": "https://localhost:8080/",
          "height": 300
        },
        "id": "nBGxWli2hxA2",
        "outputId": "3ac99652-aba2-435f-de8f-77d483824c1d"
      },
      "execution_count": 10,
      "outputs": [
        {
          "output_type": "execute_result",
          "data": {
            "text/plain": [
              "   CategoryID    CategoryName  \\\n",
              "0           1       Beverages   \n",
              "1           2      Condiments   \n",
              "2           3     Confections   \n",
              "3           4  Dairy Products   \n",
              "4           5  Grains/Cereals   \n",
              "5           6    Meat/Poultry   \n",
              "6           7         Produce   \n",
              "7           8         Seafood   \n",
              "\n",
              "                                         Description  \n",
              "0        Soft drinks, coffees, teas, beers, and ales  \n",
              "1  Sweet and savory sauces, relishes, spreads, an...  \n",
              "2                Desserts, candies, and sweet breads  \n",
              "3                                            Cheeses  \n",
              "4                Breads, crackers, pasta, and cereal  \n",
              "5                                     Prepared meats  \n",
              "6                          Dried fruit and bean curd  \n",
              "7                                   Seaweed and fish  "
            ],
            "text/html": [
              "\n",
              "  <div id=\"df-3f31bd0e-6658-4c81-973f-0a158c6abb88\">\n",
              "    <div class=\"colab-df-container\">\n",
              "      <div>\n",
              "<style scoped>\n",
              "    .dataframe tbody tr th:only-of-type {\n",
              "        vertical-align: middle;\n",
              "    }\n",
              "\n",
              "    .dataframe tbody tr th {\n",
              "        vertical-align: top;\n",
              "    }\n",
              "\n",
              "    .dataframe thead th {\n",
              "        text-align: right;\n",
              "    }\n",
              "</style>\n",
              "<table border=\"1\" class=\"dataframe\">\n",
              "  <thead>\n",
              "    <tr style=\"text-align: right;\">\n",
              "      <th></th>\n",
              "      <th>CategoryID</th>\n",
              "      <th>CategoryName</th>\n",
              "      <th>Description</th>\n",
              "    </tr>\n",
              "  </thead>\n",
              "  <tbody>\n",
              "    <tr>\n",
              "      <th>0</th>\n",
              "      <td>1</td>\n",
              "      <td>Beverages</td>\n",
              "      <td>Soft drinks, coffees, teas, beers, and ales</td>\n",
              "    </tr>\n",
              "    <tr>\n",
              "      <th>1</th>\n",
              "      <td>2</td>\n",
              "      <td>Condiments</td>\n",
              "      <td>Sweet and savory sauces, relishes, spreads, an...</td>\n",
              "    </tr>\n",
              "    <tr>\n",
              "      <th>2</th>\n",
              "      <td>3</td>\n",
              "      <td>Confections</td>\n",
              "      <td>Desserts, candies, and sweet breads</td>\n",
              "    </tr>\n",
              "    <tr>\n",
              "      <th>3</th>\n",
              "      <td>4</td>\n",
              "      <td>Dairy Products</td>\n",
              "      <td>Cheeses</td>\n",
              "    </tr>\n",
              "    <tr>\n",
              "      <th>4</th>\n",
              "      <td>5</td>\n",
              "      <td>Grains/Cereals</td>\n",
              "      <td>Breads, crackers, pasta, and cereal</td>\n",
              "    </tr>\n",
              "    <tr>\n",
              "      <th>5</th>\n",
              "      <td>6</td>\n",
              "      <td>Meat/Poultry</td>\n",
              "      <td>Prepared meats</td>\n",
              "    </tr>\n",
              "    <tr>\n",
              "      <th>6</th>\n",
              "      <td>7</td>\n",
              "      <td>Produce</td>\n",
              "      <td>Dried fruit and bean curd</td>\n",
              "    </tr>\n",
              "    <tr>\n",
              "      <th>7</th>\n",
              "      <td>8</td>\n",
              "      <td>Seafood</td>\n",
              "      <td>Seaweed and fish</td>\n",
              "    </tr>\n",
              "  </tbody>\n",
              "</table>\n",
              "</div>\n",
              "      <button class=\"colab-df-convert\" onclick=\"convertToInteractive('df-3f31bd0e-6658-4c81-973f-0a158c6abb88')\"\n",
              "              title=\"Convert this dataframe to an interactive table.\"\n",
              "              style=\"display:none;\">\n",
              "        \n",
              "  <svg xmlns=\"http://www.w3.org/2000/svg\" height=\"24px\"viewBox=\"0 0 24 24\"\n",
              "       width=\"24px\">\n",
              "    <path d=\"M0 0h24v24H0V0z\" fill=\"none\"/>\n",
              "    <path d=\"M18.56 5.44l.94 2.06.94-2.06 2.06-.94-2.06-.94-.94-2.06-.94 2.06-2.06.94zm-11 1L8.5 8.5l.94-2.06 2.06-.94-2.06-.94L8.5 2.5l-.94 2.06-2.06.94zm10 10l.94 2.06.94-2.06 2.06-.94-2.06-.94-.94-2.06-.94 2.06-2.06.94z\"/><path d=\"M17.41 7.96l-1.37-1.37c-.4-.4-.92-.59-1.43-.59-.52 0-1.04.2-1.43.59L10.3 9.45l-7.72 7.72c-.78.78-.78 2.05 0 2.83L4 21.41c.39.39.9.59 1.41.59.51 0 1.02-.2 1.41-.59l7.78-7.78 2.81-2.81c.8-.78.8-2.07 0-2.86zM5.41 20L4 18.59l7.72-7.72 1.47 1.35L5.41 20z\"/>\n",
              "  </svg>\n",
              "      </button>\n",
              "      \n",
              "  <style>\n",
              "    .colab-df-container {\n",
              "      display:flex;\n",
              "      flex-wrap:wrap;\n",
              "      gap: 12px;\n",
              "    }\n",
              "\n",
              "    .colab-df-convert {\n",
              "      background-color: #E8F0FE;\n",
              "      border: none;\n",
              "      border-radius: 50%;\n",
              "      cursor: pointer;\n",
              "      display: none;\n",
              "      fill: #1967D2;\n",
              "      height: 32px;\n",
              "      padding: 0 0 0 0;\n",
              "      width: 32px;\n",
              "    }\n",
              "\n",
              "    .colab-df-convert:hover {\n",
              "      background-color: #E2EBFA;\n",
              "      box-shadow: 0px 1px 2px rgba(60, 64, 67, 0.3), 0px 1px 3px 1px rgba(60, 64, 67, 0.15);\n",
              "      fill: #174EA6;\n",
              "    }\n",
              "\n",
              "    [theme=dark] .colab-df-convert {\n",
              "      background-color: #3B4455;\n",
              "      fill: #D2E3FC;\n",
              "    }\n",
              "\n",
              "    [theme=dark] .colab-df-convert:hover {\n",
              "      background-color: #434B5C;\n",
              "      box-shadow: 0px 1px 3px 1px rgba(0, 0, 0, 0.15);\n",
              "      filter: drop-shadow(0px 1px 2px rgba(0, 0, 0, 0.3));\n",
              "      fill: #FFFFFF;\n",
              "    }\n",
              "  </style>\n",
              "\n",
              "      <script>\n",
              "        const buttonEl =\n",
              "          document.querySelector('#df-3f31bd0e-6658-4c81-973f-0a158c6abb88 button.colab-df-convert');\n",
              "        buttonEl.style.display =\n",
              "          google.colab.kernel.accessAllowed ? 'block' : 'none';\n",
              "\n",
              "        async function convertToInteractive(key) {\n",
              "          const element = document.querySelector('#df-3f31bd0e-6658-4c81-973f-0a158c6abb88');\n",
              "          const dataTable =\n",
              "            await google.colab.kernel.invokeFunction('convertToInteractive',\n",
              "                                                     [key], {});\n",
              "          if (!dataTable) return;\n",
              "\n",
              "          const docLinkHtml = 'Like what you see? Visit the ' +\n",
              "            '<a target=\"_blank\" href=https://colab.research.google.com/notebooks/data_table.ipynb>data table notebook</a>'\n",
              "            + ' to learn more about interactive tables.';\n",
              "          element.innerHTML = '';\n",
              "          dataTable['output_type'] = 'display_data';\n",
              "          await google.colab.output.renderOutput(dataTable, element);\n",
              "          const docLink = document.createElement('div');\n",
              "          docLink.innerHTML = docLinkHtml;\n",
              "          element.appendChild(docLink);\n",
              "        }\n",
              "      </script>\n",
              "    </div>\n",
              "  </div>\n",
              "  "
            ]
          },
          "metadata": {},
          "execution_count": 10
        }
      ]
    },
    {
      "cell_type": "code",
      "source": [
        "# Count the number of products in each category\n",
        "# Your code here"
      ],
      "metadata": {
        "id": "veYed25Zh4eY"
      },
      "execution_count": 11,
      "outputs": []
    },
    {
      "cell_type": "code",
      "source": [
        ""
      ],
      "metadata": {
        "id": "ix_jz0zUlaYo"
      },
      "execution_count": 11,
      "outputs": []
    }
  ]
}